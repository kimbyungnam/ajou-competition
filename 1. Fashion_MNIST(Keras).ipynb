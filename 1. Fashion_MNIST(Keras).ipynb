{
 "cells": [
  {
   "cell_type": "code",
   "execution_count": 23,
   "metadata": {
    "scrolled": true
   },
   "outputs": [],
   "source": [
    "import numpy as np\n",
    "import matplotlib.pyplot as plt\n",
    "import pandas as pd\n",
    "import tensorflow as tf\n",
    "import keras\n",
    "from keras.models import Sequential\n",
    "from keras.layers import Dense, Conv2D, MaxPooling2D, Flatten, Dropout\n",
    "\n",
    "%matplotlib inline"
   ]
  },
  {
   "cell_type": "code",
   "execution_count": 2,
   "metadata": {},
   "outputs": [
    {
     "name": "stdout",
     "output_type": "stream",
     "text": [
      "--2018-11-09 11:45:15--  https://s3.ap-northeast-2.amazonaws.com/mjgim/fmnist_test.csv\n",
      "Resolving s3.ap-northeast-2.amazonaws.com (s3.ap-northeast-2.amazonaws.com)... 52.219.58.65\n",
      "Connecting to s3.ap-northeast-2.amazonaws.com (s3.ap-northeast-2.amazonaws.com)|52.219.58.65|:443... connected.\n",
      "HTTP request sent, awaiting response... 200 OK\n",
      "Length: 98797998 (94M) [text/csv]\n",
      "Saving to: ‘./fmnist_test.csv’\n",
      "\n",
      "100%[======================================>] 98,797,998  63.0MB/s   in 1.5s   \n",
      "\n",
      "2018-11-09 11:45:16 (63.0 MB/s) - ‘./fmnist_test.csv’ saved [98797998/98797998]\n",
      "\n",
      "--2018-11-09 11:45:17--  https://s3.ap-northeast-2.amazonaws.com/mjgim/fmnist_train.csv\n",
      "Resolving s3.ap-northeast-2.amazonaws.com (s3.ap-northeast-2.amazonaws.com)... 52.219.60.0\n",
      "Connecting to s3.ap-northeast-2.amazonaws.com (s3.ap-northeast-2.amazonaws.com)|52.219.60.0|:443... connected.\n",
      "HTTP request sent, awaiting response... 200 OK\n",
      "Length: 1099000000 (1.0G) [text/csv]\n",
      "Saving to: ‘./fmnist_train.csv’\n",
      "\n",
      "100%[====================================>] 1,099,000,000 56.7MB/s   in 18s    \n",
      "\n",
      "2018-11-09 11:45:35 (58.2 MB/s) - ‘./fmnist_train.csv’ saved [1099000000/1099000000]\n",
      "\n"
     ]
    }
   ],
   "source": [
    "! wget --no-check-certificate -P ./ -N https://s3.ap-northeast-2.amazonaws.com/mjgim/fmnist_test.csv\n",
    "! wget --no-check-certificate -P ./ -N https://s3.ap-northeast-2.amazonaws.com/mjgim/fmnist_train.csv"
   ]
  },
  {
   "cell_type": "code",
   "execution_count": 3,
   "metadata": {},
   "outputs": [],
   "source": [
    "training_data = np.loadtxt('./fmnist_train.csv', delimiter=\",\")\n",
    "training_img = training_data[:,1:]\n",
    "training_lab = training_data[:,0]\n",
    "\n",
    "test_img = np.loadtxt('./fmnist_test.csv', delimiter=\",\")"
   ]
  },
  {
   "cell_type": "code",
   "execution_count": 7,
   "metadata": {},
   "outputs": [],
   "source": [
    "training_img = training_img.reshape(training_img.shape[0], 28, 28)\n",
    "test_img = test_img.reshape(test_img.shape[0], 28, 28)"
   ]
  },
  {
   "cell_type": "code",
   "execution_count": 8,
   "metadata": {},
   "outputs": [
    {
     "name": "stdout",
     "output_type": "stream",
     "text": [
      "Training set (images) shape: (56000, 28, 28)\n",
      "Training set (labels) shape: (56000,)\n",
      "Test set (images) shape: (14000, 28, 28)\n"
     ]
    }
   ],
   "source": [
    "print(\"Training set (images) shape: {shape}\".format(shape=training_img.shape))\n",
    "print(\"Training set (labels) shape: {shape}\".format(shape=training_lab.shape))\n",
    "\n",
    "print(\"Test set (images) shape: {shape}\".format(shape=test_img.shape))"
   ]
  },
  {
   "cell_type": "code",
   "execution_count": 10,
   "metadata": {},
   "outputs": [],
   "source": [
    "training_img = training_img.astype('float32')/255\n",
    "test_img = test_img.astype('float32')/255"
   ]
  },
  {
   "cell_type": "code",
   "execution_count": 13,
   "metadata": {},
   "outputs": [],
   "source": [
    "training_img = training_img.reshape(training_img.shape[0],training_img.shape[1],training_img.shape[2],1)\n",
    "test_img = test_img.reshape(test_img.shape[0],test_img.shape[1],test_img.shape[2],1)"
   ]
  },
  {
   "cell_type": "code",
   "execution_count": 14,
   "metadata": {},
   "outputs": [
    {
     "name": "stdout",
     "output_type": "stream",
     "text": [
      "Training set (images) shape: (56000, 28, 28, 1)\n",
      "Training set (labels) shape: (56000,)\n",
      "Test set (images) shape: (14000, 28, 28, 1)\n"
     ]
    }
   ],
   "source": [
    "print(\"Training set (images) shape: {shape}\".format(shape=training_img.shape))\n",
    "print(\"Training set (labels) shape: {shape}\".format(shape=training_lab.shape))\n",
    "\n",
    "print(\"Test set (images) shape: {shape}\".format(shape=test_img.shape))"
   ]
  },
  {
   "cell_type": "code",
   "execution_count": 15,
   "metadata": {},
   "outputs": [
    {
     "data": {
      "image/png": "[encoded data removed]",
      "text/plain": [
       "<Figure size 2880x144 with 20 Axes>"
      ]
     },
     "metadata": {
      "needs_background": "light"
     },
     "output_type": "display_data"
    }
   ],
   "source": [
    "sample_size = 20\n",
    "\n",
    "idx_s = np.random.randint(0,len(training_img), sample_size)\n",
    "fig, ax = plt.subplots(1, sample_size, figsize=(sample_size*2, 2))\n",
    "\n",
    "for i in range(sample_size):\n",
    "    ax[i].set_axis_off()\n",
    "    ax[i].imshow(np.reshape(training_img[idx_s][i], [28,28]),cmap=\"gray\")"
   ]
  },
  {
   "cell_type": "code",
   "execution_count": 16,
   "metadata": {
    "scrolled": false
   },
   "outputs": [],
   "source": [
    "# Set parameter\n",
    " \n",
    "batch_size = 10\n",
    "epochs = 5"
   ]
  },
  {
   "cell_type": "code",
   "execution_count": null,
   "metadata": {},
   "outputs": [],
   "source": [
    "model = Sequential()\n",
    "model.add(Dense(10, input_shape=(784,), activation='softmax'))\n",
    "model.compile(loss=keras.losses.sparse_categorical_crossentropy, optimizer=keras.optimizers.Adam(), metrics=['accuracy'])"
   ]
  },
  {
   "cell_type": "code",
   "execution_count": 26,
   "metadata": {},
   "outputs": [
    {
     "name": "stdout",
     "output_type": "stream",
     "text": [
      "_________________________________________________________________\n",
      "Layer (type)                 Output Shape              Param #   \n",
      "=================================================================\n",
      "conv2d_5 (Conv2D)            (None, 28, 28, 64)        320       \n",
      "_________________________________________________________________\n",
      "max_pooling2d_4 (MaxPooling2 (None, 14, 14, 64)        0         \n",
      "_________________________________________________________________\n",
      "dropout_4 (Dropout)          (None, 14, 14, 64)        0         \n",
      "_________________________________________________________________\n",
      "conv2d_6 (Conv2D)            (None, 14, 14, 32)        8224      \n",
      "_________________________________________________________________\n",
      "max_pooling2d_5 (MaxPooling2 (None, 7, 7, 32)          0         \n",
      "_________________________________________________________________\n",
      "dropout_5 (Dropout)          (None, 7, 7, 32)          0         \n",
      "_________________________________________________________________\n",
      "flatten_2 (Flatten)          (None, 1568)              0         \n",
      "_________________________________________________________________\n",
      "dense_3 (Dense)              (None, 256)               401664    \n",
      "_________________________________________________________________\n",
      "dropout_6 (Dropout)          (None, 256)               0         \n",
      "_________________________________________________________________\n",
      "dense_4 (Dense)              (None, 10)                2570      \n",
      "=================================================================\n",
      "Total params: 412,778\n",
      "Trainable params: 412,778\n",
      "Non-trainable params: 0\n",
      "_________________________________________________________________\n"
     ]
    }
   ],
   "source": [
    "model = Sequential()\n",
    "\n",
    "# Must define the input shape in the first layer of the neural network\n",
    "model.add(Conv2D(filters=64, kernel_size=2, padding='same', activation='relu', input_shape=(28,28,1))) \n",
    "model.add(MaxPooling2D(pool_size=2))\n",
    "model.add(Dropout(0.3))\n",
    "\n",
    "model.add(Conv2D(filters=32, kernel_size=2, padding='same', activation='relu'))\n",
    "model.add(MaxPooling2D(pool_size=2))\n",
    "model.add(Dropout(0.3))\n",
    "\n",
    "model.add(Flatten())\n",
    "model.add(Dense(256, activation='relu'))\n",
    "model.add(Dropout(0.5))\n",
    "model.add(Dense(10, activation='softmax'))\n",
    "\n",
    "# Take a look at the model summary\n",
    "model.summary()\n",
    "model.compile(loss=keras.losses.sparse_categorical_crossentropy, optimizer=keras.optimizers.Adam(), metrics=['accuracy'])"
   ]
  },
  {
   "cell_type": "code",
   "execution_count": null,
   "metadata": {},
   "outputs": [
    {
     "name": "stdout",
     "output_type": "stream",
     "text": [
      "Epoch 1/5\n",
      " - 76s - loss: 0.5749 - acc: 0.7878\n",
      "Epoch 2/5\n",
      " - 77s - loss: 0.4098 - acc: 0.8517\n",
      "Epoch 3/5\n",
      " - 76s - loss: 0.3694 - acc: 0.8663\n",
      "Epoch 4/5\n",
      " - 76s - loss: 0.3412 - acc: 0.8759\n",
      "Epoch 5/5\n"
     ]
    }
   ],
   "source": [
    "train_model = model.fit(training_img, training_lab, epochs=epochs, verbose=2)"
   ]
  },
  {
   "cell_type": "code",
   "execution_count": null,
   "metadata": {},
   "outputs": [],
   "source": [
    "history = train_model.history\n",
    "# plot results\n",
    "hist = train_model.history\n",
    "acc = hist['acc']\n",
    "loss = hist['loss']\n",
    "epochs = range(len(acc))\n",
    "fig, ax = plt.subplots(1,2, figsize=(14,6))\n",
    "\n",
    "ax[0].plot(epochs, acc, 'g', label='Training accuracy')\n",
    "ax[0].set_title('Training accuracy')\n",
    "ax[0].legend(loc=1)\n",
    "ax[1].plot(epochs, loss, 'g', label='Training loss')\n",
    "ax[1].set_title('Training loss')\n",
    "ax[1].legend(loc=1)\n",
    "plt.show()"
   ]
  },
  {
   "cell_type": "code",
   "execution_count": null,
   "metadata": {},
   "outputs": [],
   "source": [
    "# result = model.predict_classes(test_img)\n",
    "# np.savetxt(\"fmnist_result.csv\", result, delimiter=\",\")"
   ]
  },
  {
   "cell_type": "code",
   "execution_count": null,
   "metadata": {},
   "outputs": [],
   "source": []
  }
 ],
 "metadata": {
  "kernelspec": {
   "display_name": "Python 3",
   "language": "python",
   "name": "python3"
  },
  "language_info": {
   "codemirror_mode": {
    "name": "ipython",
    "version": 3
   },
   "file_extension": ".py",
   "mimetype": "text/x-python",
   "name": "python",
   "nbconvert_exporter": "python",
   "pygments_lexer": "ipython3",
   "version": "3.6.6"
  }
 },
 "nbformat": 4,
 "nbformat_minor": 2
}
